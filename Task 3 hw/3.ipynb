{
 "cells": [
  {
   "cell_type": "code",
   "execution_count": null,
   "id": "802e4d83-993f-4b43-b695-a21351fd934e",
   "metadata": {},
   "outputs": [],
   "source": [
    "from module_1 import find_two_smallest\n",
    "from module_2 import list_a, list_b, list_c\n",
    "\n",
    "f = open(\"result.txt\", \"w\")\n",
    "a, b = find_two_smallest(list_a)\n",
    "f.write(str(a) + \", \")\n",
    "f.write(str(b) + \", \")\n",
    "a, b = find_two_smallest(list_b)\n",
    "f.write(str(a) + \", \")\n",
    "f.write(str(b) + \", \")\n",
    "a, b = find_two_smallest(list_c)\n",
    "f.write(str(a) + \", \")\n",
    "f.write(str(b))\n",
    "f.close()"
   ]
  }
 ],
 "metadata": {
  "kernelspec": {
   "display_name": "Python 3 (ipykernel)",
   "language": "python",
   "name": "python3"
  },
  "language_info": {
   "codemirror_mode": {
    "name": "ipython",
    "version": 3
   },
   "file_extension": ".py",
   "mimetype": "text/x-python",
   "name": "python",
   "nbconvert_exporter": "python",
   "pygments_lexer": "ipython3",
   "version": "3.12.7"
  }
 },
 "nbformat": 4,
 "nbformat_minor": 5
}
