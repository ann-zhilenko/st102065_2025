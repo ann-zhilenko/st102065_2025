{
 "cells": [
  {
   "cell_type": "code",
   "execution_count": 3,
   "id": "f9dfe653-0e46-424b-b250-582080a90b09",
   "metadata": {},
   "outputs": [
    {
     "name": "stdout",
     "output_type": "stream",
     "text": [
      "Volkhovsky per., 3, office 207\n"
     ]
    }
   ],
   "source": [
    "text=\"Before departure, all students leaving for exchange studies should fill in a specialized application form. An application should be submitted in 1 copy and not later than 2 weeks prior to departure for the exchange semester, provided that the students do not have any academic failure. The paper should be submitted to the International Academic Mobility Office (Volkhovsky per., 3, office 207, Tel.: +7 (812) 323 8447). A copy of the invitation letter from a host school - partner of GSOM SPbU has to be attached to the application.\"\n",
    "start = text.find(\"(\") + 1\n",
    "end = text.find(\", Tel.\")\n",
    "address = text[start:end]\n",
    "print(address)\n"
   ]
  },
  {
   "cell_type": "code",
   "execution_count": 2,
   "id": "e0a6df70-c384-4168-9996-303fb409c168",
   "metadata": {},
   "outputs": [
    {
     "name": "stdout",
     "output_type": "stream",
     "text": [
      "Volkhovsky per., 3, office 207\n"
     ]
    }
   ],
   "source": [
    "#Julia's suggestion for improvement - Adding a data type \n",
    "text = str(\"Before departure, all students leaving for exchange studies should fill in a specialized application form. An application should be submitted in 1 copy and not later than 2 weeks prior to departure for the exchange semester, provided that the students do not have any academic failure. The paper should be submitted to the International Academic Mobility Office (Volkhovsky per., 3, office 207, Tel.: +7 (812) 323 8447). A copy of the invitation letter from a host school - partner of GSOM SPbU has to be attached to the application.\")\n",
    "\n",
    "#Julia's suggestion for improvement - You can make the code shorter by removing address = text[start:end] and adding .split instead of .find.\n",
    "part_1 = text.split(\"(\")[1]\n",
    "part_2 = part_1.split(\", Tel.\")[0]\n",
    "\n",
    "print(part_2)"
   ]
  }
 ],
 "metadata": {
  "kernelspec": {
   "display_name": "Python 3 (ipykernel)",
   "language": "python",
   "name": "python3"
  },
  "language_info": {
   "codemirror_mode": {
    "name": "ipython",
    "version": 3
   },
   "file_extension": ".py",
   "mimetype": "text/x-python",
   "name": "python",
   "nbconvert_exporter": "python",
   "pygments_lexer": "ipython3",
   "version": "3.12.7"
  }
 },
 "nbformat": 4,
 "nbformat_minor": 5
}
