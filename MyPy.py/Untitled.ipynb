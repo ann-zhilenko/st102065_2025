{
 "cells": [
  {
   "cell_type": "code",
   "execution_count": 1,
   "id": "dd3975f5-e185-4899-9a16-1e9924736b17",
   "metadata": {},
   "outputs": [
    {
     "name": "stdout",
     "output_type": "stream",
     "text": [
      "The Zen of Python, by Tim Peters\n",
      "\n",
      "Beautiful is better than ugly.\n",
      "Explicit is better than implicit.\n",
      "Simple is better than complex.\n",
      "Complex is better than complicated.\n",
      "Flat is better than nested.\n",
      "Sparse is better than dense.\n",
      "Readability counts.\n",
      "Special cases aren't special enough to break the rules.\n",
      "Although practicality beats purity.\n",
      "Errors should never pass silently.\n",
      "Unless explicitly silenced.\n",
      "In the face of ambiguity, refuse the temptation to guess.\n",
      "There should be one-- and preferably only one --obvious way to do it.\n",
      "Although that way may not be obvious at first unless you're Dutch.\n",
      "Now is better than never.\n",
      "Although never is often better than *right* now.\n",
      "If the implementation is hard to explain, it's a bad idea.\n",
      "If the implementation is easy to explain, it may be a good idea.\n",
      "Namespaces are one honking great idea -- let's do more of those!\n"
     ]
    }
   ],
   "source": [
    "import this\n"
   ]
  },
  {
   "cell_type": "code",
   "execution_count": 2,
   "id": "479dc9dd-e435-48de-b718-5c57e4234eec",
   "metadata": {},
   "outputs": [
    {
     "name": "stdout",
     "output_type": "stream",
     "text": [
      "datatype of num_int: <class 'int'>\n",
      "datatype of num_flo: <class 'float'>\n",
      "Value of num_new: 124.23\n",
      "datatype of num_new: <class 'float'>\n"
     ]
    }
   ],
   "source": [
    "num_int = 123\n",
    "num_flo = 1.23\n",
    "num_new = num_int + num_flo\n",
    "\n",
    "print(\"datatype of num_int:\", type(num_int))\n",
    "print(\"datatype of num_flo:\", type(num_flo))\n",
    "print(\"Value of num_new:\", num_new)\n",
    "print(\"datatype of num_new:\", type(num_new))\n"
   ]
  },
  {
   "cell_type": "code",
   "execution_count": 3,
   "id": "69146461-9144-4876-b23a-605784f1e4ee",
   "metadata": {},
   "outputs": [
    {
     "name": "stdout",
     "output_type": "stream",
     "text": [
      "Sum of num_int and num_str:  579\n",
      "Concatenation of num_int and num_str:  123456\n"
     ]
    }
   ],
   "source": [
    "num_int = 123\n",
    "num_str = \"456\"\n",
    "num_sum = num_int + int(num_str)\n",
    "str_sum = str(num_int) + num_str\n",
    "print(\"Sum of num_int and num_str: \", num_sum)\n",
    "print(\"Concatenation of num_int and num_str: \", str_sum)"
   ]
  },
  {
   "cell_type": "code",
   "execution_count": 4,
   "id": "0229c4a4-dc0b-4fa7-b9b5-98c7153a2f4c",
   "metadata": {},
   "outputs": [
    {
     "name": "stdout",
     "output_type": "stream",
     "text": [
      "Hello, World\n",
      "x+y= 7\n"
     ]
    }
   ],
   "source": [
    "print(\"Hello, World\")\n",
    "x = 2\n",
    "y = 5\n",
    "print(\"x+y=\", x + y)"
   ]
  },
  {
   "cell_type": "code",
   "execution_count": 5,
   "id": "ebd24923-904d-4d66-a3f3-8ff12e7175fd",
   "metadata": {},
   "outputs": [
    {
     "name": "stdout",
     "output_type": "stream",
     "text": [
      "Решаем выражение с переменными\n",
      "Результат вычисления: 25\n"
     ]
    }
   ],
   "source": [
    "print(\"Решаем выражение с переменными\")\n",
    "a = 4\n",
    "b = 9\n",
    "c = 2\n",
    "result = (a + b) * c - (a**2) // b\n",
    "print(\"Результат вычисления:\", result)"
   ]
  },
  {
   "cell_type": "code",
   "execution_count": 6,
   "id": "36dd1a69-a280-4209-81f1-3fa7cea857a9",
   "metadata": {},
   "outputs": [
    {
     "name": "stdout",
     "output_type": "stream",
     "text": [
      "Вычисляем сложное выражение\n",
      "Результат: 62\n"
     ]
    }
   ],
   "source": [
    "print(\"Вычисляем сложное выражение\")\n",
    "x = 5\n",
    "y = 12\n",
    "z = 3\n",
    "result = (x * y) + (y // z) - (x % z)\n",
    "print(\"Результат:\", result)\n"
   ]
  },
  {
   "cell_type": "code",
   "execution_count": 7,
   "id": "33a8ad12-9408-44a9-a2b6-07b878d878cd",
   "metadata": {},
   "outputs": [
    {
     "name": "stdout",
     "output_type": "stream",
     "text": [
      "Результаты вычисления: Сложение дробей - 5.803571428571429\n"
     ]
    }
   ],
   "source": [
    "greeting = \"Результаты вычисления:\"\n",
    "name = \"Сложение дробей\"\n",
    "num1 = 2.5\n",
    "num2 = 1.75\n",
    "result = num1 * num2 + (num1 / num2)\n",
    "output = greeting + ' ' + name + \" - \" + str(result)\n",
    "print(output)"
   ]
  },
  {
   "cell_type": "code",
   "execution_count": 8,
   "id": "708edd06-9523-4a92-acf1-12d16a26f869",
   "metadata": {},
   "outputs": [
    {
     "name": "stdout",
     "output_type": "stream",
     "text": [
      "Имя студента: Ольга\n",
      "Средний балл: 81.6\n",
      "Статус: Сдал\n",
      "Тип итогового балла: <class 'float'>\n",
      "Тип результата сдачи: <class 'bool'>\n"
     ]
    }
   ],
   "source": [
    "student_name = \"Ольга\"\n",
    "grade_midterm = 76.5  # Средний балл за промежуточный экзамен\n",
    "grade_final = 85      # Балл за финальный экзамен\n",
    "passing_score = 60    # Проходной балл\n",
    "\n",
    "# Средний итоговый балл\n",
    "final_score = (grade_midterm * 0.4) + (grade_final * 0.6)\n",
    "\n",
    "# Проверяем, сдал ли студент курс\n",
    "passed = final_score >= passing_score\n",
    "\n",
    "# Вывод результатов\n",
    "print(\"Имя студента:\", student_name)\n",
    "print(\"Средний балл:\", final_score)\n",
    "print(\"Статус:\", \"Сдал\" if passed else \"Не сдал\")\n",
    "print(\"Тип итогового балла:\", type(final_score))\n",
    "print(\"Тип результата сдачи:\", type(passed))"
   ]
  },
  {
   "cell_type": "code",
   "execution_count": null,
   "id": "26dfc71b-2b16-42ee-b3c5-99ff75cec44a",
   "metadata": {},
   "outputs": [],
   "source": []
  }
 ],
 "metadata": {
  "kernelspec": {
   "display_name": "Python 3 (ipykernel)",
   "language": "python",
   "name": "python3"
  },
  "language_info": {
   "codemirror_mode": {
    "name": "ipython",
    "version": 3
   },
   "file_extension": ".py",
   "mimetype": "text/x-python",
   "name": "python",
   "nbconvert_exporter": "python",
   "pygments_lexer": "ipython3",
   "version": "3.12.7"
  }
 },
 "nbformat": 4,
 "nbformat_minor": 5
}
