{
 "cells": [
  {
   "cell_type": "code",
   "execution_count": 2,
   "id": "cb256a6f-45bf-4c46-b0da-81ba1db19d02",
   "metadata": {},
   "outputs": [],
   "source": [
    "def best_rod_cutting(prices, n):\n",
    "    dp = [0] * (n + 1)\n",
    "    cut = [0] * (n + 1)\n",
    "\n",
    "    def piece_price(L):\n",
    "        return prices[L - 1] if 1 <= L <= len(prices) else float('-inf')\n",
    "\n",
    "    for i in range(1, n + 1):\n",
    "        best = piece_price(i)\n",
    "        first = 0 if best != float('-inf') else 0\n",
    "        for j in range(1, i // 2 + 1):\n",
    "            left = dp[j]\n",
    "            right = dp[i - j]\n",
    "            total = left + right\n",
    "            if total > best:\n",
    "                best = total\n",
    "                first = j\n",
    "        dp[i] = best if best != float('-inf') else -10**18\n",
    "        cut[i] = first\n",
    "\n",
    "    pieces = []\n",
    "    def reconstruct(length):\n",
    "        if length == 0:\n",
    "            return\n",
    "        if cut[length] == 0:\n",
    "            pieces.append(length)\n",
    "            return\n",
    "        j = cut[length]\n",
    "        reconstruct(j)\n",
    "        reconstruct(length - j)\n",
    "\n",
    "    reconstruct(n)\n",
    "    return dp[n], pieces"
   ]
  },
  {
   "cell_type": "code",
   "execution_count": 3,
   "id": "12776756-0a88-4375-8a37-7559dcd4fb06",
   "metadata": {},
   "outputs": [
    {
     "name": "stdout",
     "output_type": "stream",
     "text": [
      "(22, [2, 6])\n"
     ]
    }
   ],
   "source": [
    "prices = [1,5,8,9,10,17,17,20]\n",
    "n = 8\n",
    "print(best_rod_cutting(prices, n))\n",
    "\n"
   ]
  },
  {
   "cell_type": "code",
   "execution_count": null,
   "id": "f5e13ef5-836e-40b1-86cd-4d7a8c53a13f",
   "metadata": {},
   "outputs": [],
   "source": []
  }
 ],
 "metadata": {
  "kernelspec": {
   "display_name": "Python 3 (ipykernel)",
   "language": "python",
   "name": "python3"
  },
  "language_info": {
   "codemirror_mode": {
    "name": "ipython",
    "version": 3
   },
   "file_extension": ".py",
   "mimetype": "text/x-python",
   "name": "python",
   "nbconvert_exporter": "python",
   "pygments_lexer": "ipython3",
   "version": "3.12.7"
  }
 },
 "nbformat": 4,
 "nbformat_minor": 5
}
